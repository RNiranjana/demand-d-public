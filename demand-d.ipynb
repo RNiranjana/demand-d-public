{
 "cells": [
  {
   "cell_type": "code",
   "execution_count": 1,
   "id": "cubic-badge",
   "metadata": {},
   "outputs": [
    {
     "data": {
      "text/plain": [
       "{'cells': [{'cell_type': 'markdown',\n",
       "   'metadata': {},\n",
       "   'source': ['#COVID-19 Interactive Analysis Dashboard']}]}"
      ]
     },
     "execution_count": 1,
     "metadata": {},
     "output_type": "execute_result"
    }
   ],
   "source": [
    "{\"cells\":[{\"cell_type\": \"markdown\", \"metadata\": {},\"source\": [\"#COVID-19 Interactive Analysis Dashboard\"]}]}"
   ]
  },
  {
   "cell_type": "code",
   "execution_count": null,
   "id": "actual-merchandise",
   "metadata": {},
   "outputs": [],
   "source": []
  }
 ],
 "metadata": {
  "kernelspec": {
   "display_name": "Python 3",
   "language": "python",
   "name": "python3"
  },
  "language_info": {
   "codemirror_mode": {
    "name": "ipython",
    "version": 3
   },
   "file_extension": ".py",
   "mimetype": "text/x-python",
   "name": "python",
   "nbconvert_exporter": "python",
   "pygments_lexer": "ipython3",
   "version": "3.7.8"
  }
 },
 "nbformat": 4,
 "nbformat_minor": 5
}
